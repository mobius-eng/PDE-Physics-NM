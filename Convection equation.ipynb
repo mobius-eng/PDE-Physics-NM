{
 "cells": [
  {
   "cell_type": "code",
   "execution_count": 1,
   "metadata": {},
   "outputs": [
    {
     "data": {
      "text/html": [
       "<style>\n",
       "/*\n",
       "  Dark theme for Jupyter Notebook/iPython 4\n",
       "  Author: Theodore Pak\n",
       "  Repo at: https://github.com/powerpak/jupyter-dark-theme\n",
       "\n",
       "  Inspired by and adapted from the following:\n",
       "  Base16 for iPython Notebook (https://github.com/nsonnad/base16-ipython-notebook)\n",
       "  Base16 Twilight Dark, David Hart (http://hart-dev.com)\n",
       "  CodeMirror template adapted for IPython Notebook by Nikhil Sonnad (https://github.com/nsonnad/base16-ipython-notebook)\n",
       "  CodeMirror template by Jan T. Scott (https://github.com/idleberg/base16-chrome-devtools)\n",
       "  Original Base16 color scheme by Chris Kempson (https://github.com/chriskempson/base16)\n",
       "*/\n",
       "\n",
       "/* Suuposed to fix Chrome issue with math equations */\n",
       ".MathJax nobr>span.math>span{border-left-width:0 !important};\n",
       "\n",
       "\n",
       "body, body.notebook_app.command_mode {\n",
       "  font-family: -apple-system, BlinkMacSystemFont, \"Segoe UI\", \"Helvetica Neue\", Helvetica, Arial, sans-serif;\n",
       "}\n",
       "\n",
       "/*\n",
       "  SET THE CODE/MONOSPACE FONT\n",
       "\n",
       "  I prefer Bitsream Vera Sans Mono, which is freely downloadable here:\n",
       "  http://www.dafont.com/bitstream-vera-mono.font\n",
       "  However, there are plenty of alternatives at http://programmingfonts.org/\n",
       "  in which case, add your preferred font to the stack below.\n",
       "*/\n",
       "\n",
       ".CodeMirror pre, .CodeMirror-dialog, .CodeMirror-dialog .CodeMirror-search-field, .terminal-app .terminal {\n",
       "    font-family: \"Consolas\", \"Bitstream Vera Sans Mono\", Monaco, monospace;\n",
       "    font-size: 10pt;\n",
       "}\n",
       ".terminal-app .terminal { line-height: 1.3em; }\n",
       "div.output pre, div.output code, .rendered_html pre, .rendered_html code, div.completions select, div.container pre {\n",
       "  font-family: \"Consolas\", \"Bitstream Vera Sans Mono\", Monaco, monospace;\n",
       "}\n",
       "div.output pre, div.output code, .rendered_html pre, .rendered_html p code, div.completions select, div.container pre {\n",
       "    font-size: 11pt;\n",
       "}\n",
       "\n",
       "/* .rendered_html p {\n",
       "    font-size: 12pt;\n",
       "} */\n",
       "\n",
       "div.prompt, div.tooltiptext pre {\n",
       "    font-family: \"Consolas\", \"Bitstream Vera Sans Mono\", Monaco, monospace;\n",
       "    font-size: 9pt;\n",
       "}\n",
       "\n",
       "div.input_area {\n",
       "    border-color: rgba(0, 0, 0, 0.10);\n",
       "    background: rbga(0, 0, 0, 0.5);\n",
       "}\n",
       "\n",
       "/* GLOBALS */\n",
       "\n",
       "@media not print { body { background-color: #eee; } }\n",
       "a { color: #CF4A4C; }\n",
       "a:hover, a:focus { color: #DE6F71; }\n",
       "\n",
       "/* INTRO PAGE */\n",
       "\n",
       "body[data-notebook-path] { background-color: #222; }\n",
       "body[data-notebook-path] #header, .terminal-app #header { display: none !important; }\n",
       "\n",
       ".tabbable { color: #979797; }\n",
       ".nav-tabs { border-bottom-color: #444; }\n",
       ".nav-tabs > li > a:hover, .nav > li > a:focus {\n",
       "  background-color: #333;\n",
       "  border-color: #222 #222 #555 #222;\n",
       "}\n",
       ".nav-tabs > li.active > a, .nav-tabs > li.active > a:focus, .nav-tabs > li.active > a:hover {\n",
       "  color: #979797;\n",
       "  background-color: #444;\n",
       "  border-top-color: #444;\n",
       "  border-right-color: #444;\n",
       "  border-left-color: #444;\n",
       "}\n",
       ".list_container { border-color: #444; }\n",
       ".list_container > div { border-bottom-color: #444; }\n",
       ".list_item:hover { background-color: #333; }\n",
       ".list_header { background-color: #444; }\n",
       "#notebook_list input[type=\"checkbox\"] { opacity: 0.3; }\n",
       "#notebook_list input[type=\"checkbox\"]:checked { opacity: 1; }\n",
       ".item_icon { color: #777; }\n",
       ".panel { border-color: #444; background-color: #222; }\n",
       ".panel-default > .panel-heading { border-color: #444; }\n",
       "#site .panel-group .panel .panel-heading { background-color: #444; }\n",
       "#running .panel-group .panel .panel-body .list_container .list_item { border-bottom-color: #444; }\n",
       "\n",
       "/* Dropdown menus */\n",
       "\n",
       ".dropdown-menu {\n",
       "  background: rgba(50, 50, 50, 0.95);\n",
       "  color: #b7b7b7;\n",
       "}\n",
       ".dropdown-menu > li > a, .dropdown-submenu > a:after, .dropdown-menu > li > a:visited:after {\n",
       "  color: #b7b7b7;\n",
       "}\n",
       ".dropdown-menu .divider {\n",
       "  background-color: #444;\n",
       "}\n",
       ".dropdown-menu > li > a:hover, .dropdown-menu > li > a:focus {\n",
       "  color: #fff;\n",
       "  background-color: #444;\n",
       "}\n",
       ".dropdown-menu > li > a:hover:after, .dropdown-menu > li > a:focus:after,\n",
       ".dropdown-menu > li > a:active:after {\n",
       "  color: #fff;\n",
       "}\n",
       "\n",
       "/* TERMINAL INTERFACE */\n",
       ".terminal-app #site { background: #272727; }\n",
       ".terminal-app .terminal { background: #141414 !important; }\n",
       "\n",
       "/* NOTEBOOK AND EDITOR INTERFACE */\n",
       "\n",
       "/* comment out the following line to unhide the toolbar */\n",
       "/* div#maintoolbar { display: none !important; } */\n",
       "\n",
       "/*\n",
       "  Header UI styles\n",
       "*/\n",
       "\n",
       "body.notebook_app > #header { display: block !important; }\n",
       ".notebook_app > #header, .edit_app > #header {\n",
       "  background-color: #333;\n",
       "  color: #b7b7b7;\n",
       "  -webkit-box-shadow: 0 6px 12px rgba(0, 0, 0, 0.3);\n",
       "  box-shadow: 0 6px 12px rgba(0, 0, 0, 0.3);\n",
       "}\n",
       ".edit_app #menubar .navbar { margin-bottom: 0; }\n",
       "body > #header .header-bar { background: #444; }\n",
       "#header .navbar-brand { display: none; }\n",
       "#header .filename { margin-left: 0; margin-right: 2em; }\n",
       "#header .current_kernel_logo { width: 24px; height: 24px; }\n",
       "\n",
       "/*Don't need to see jupyter logo, filename, last saved, etc.*/\n",
       "div#header-container { display: none; }\n",
       "\n",
       "span.save_widget span.filename:hover {\n",
       "  background: rgba(255, 255, 255, 0.15);\n",
       "  color: #fff;\n",
       "  text-shadow: 0px 1px 1px rgba(0, 0, 0, 0.5);\n",
       "}\n",
       ".navbar-default {\n",
       "  background: transparent;\n",
       "  color: #b7b7b7;\n",
       "  border-color: #444;\n",
       "}\n",
       ".navbar-default .navbar-nav > li > a:hover, .navbar-default .navbar-nav > li > a:focus {\n",
       "  color: #fff;\n",
       "}\n",
       ".navbar-default .navbar-nav > .open > a, .navbar-default .navbar-nav > .open > a:hover,\n",
       ".navbar-default .navbar-nav > .open > a:focus {\n",
       "  color: #fff;\n",
       "  background-color: #444;\n",
       "}\n",
       "\n",
       "@media not print {\n",
       "  .notebook_app #notebook {\n",
       "    background: #111;\n",
       "  }\n",
       "\n",
       "  .notebook_app #notebook-container, .edit_app #texteditor-backdrop {\n",
       "    background: #272727;\n",
       "  }\n",
       "}\n",
       "\n",
       "/*\n",
       "  Inverting the notebook editor UI\n",
       "*/\n",
       "\n",
       ".celltoolbar {\n",
       "  border-color: #444;\n",
       "  background: #444;\n",
       "  color: #b7b7b7;\n",
       "}\n",
       ".ctb_global_show .ctb_show ~ div.text_cell_render {\n",
       "  border-color: #444;\n",
       "}\n",
       ".celltoolbar select {\n",
       "  opacity: 0.5;\n",
       "}\n",
       "\n",
       ".modal-dialog .modal-content, .popover, .popover .popover-title {\n",
       "  background: rgba(50, 50, 50, 0.95);\n",
       "  color: #b7b7b7;\n",
       "}\n",
       ".modal-header, .popover-title {\n",
       "  border-bottom-color: #444;\n",
       "}\n",
       ".modal-footer {\n",
       "  border-top-color: #444;\n",
       "}\n",
       ".modal-dialog .close {\n",
       "  color: #fff;\n",
       "  text-shadow: 0 1px 0 #000;\n",
       "}\n",
       ".modal-dialog .alert-info {\n",
       "  background-color: #373E42;\n",
       "  color: #d9edf7;\n",
       "}\n",
       ".popover.bottom > .arrow:after {\n",
       "  border-bottom-color: #444;\n",
       "}\n",
       "\n",
       ".btn:focus, .btn:active:focus {\n",
       "  outline: 5px auto rgba(102, 175, 233, 0.3);\n",
       "  outline-offset: -1px;\n",
       "}\n",
       ".btn-default {\n",
       "  background-color: #555;\n",
       "  border-color: #222;\n",
       "  box-shadow: 0 0 1px rgba(0, 0, 0, 0.5);\n",
       "  color: #aaa;\n",
       "}\n",
       ".btn-default:focus, .btn-default:hover {\n",
       "  background-color: #555;\n",
       "  border-color: #222;\n",
       "  box-shadow: 0 0 3px rgba(0, 0, 0, 0.8);\n",
       "  color: #bbb;\n",
       "}\n",
       ".btn-default:active, .btn-default.active, .open > .dropdown-toggle.btn-default {\n",
       "  background-color: #474747;\n",
       "  color: #999;\n",
       "  box-shadow: inset 0 3px 5px rgba(0, 0, 0, 0.2);\n",
       "}\n",
       ".btn-default.disabled:focus, .btn-default.disabled:hover,\n",
       ".btn-default[disabled]:focus, .btn-default[disabled]:hover {\n",
       "  background-color: #555;\n",
       "  border-color: #222;\n",
       "  box-shadow: 0 0 1px rgba(0, 0, 0, 0.5);\n",
       "  color: #aaa;\n",
       "}\n",
       ".btn-default:active:hover, .btn-default:active:focus,\n",
       ".open > .dropdown-toggle.btn-default:hover, .open > .dropdown-toggle.btn-default:focus {\n",
       "  background-color: #474747;\n",
       "  color: #999;\n",
       "  border-color: #222;\n",
       "  box-shadow: inset 0 3px 5px rgba(0, 0, 0, 0.2);\n",
       "}\n",
       "\n",
       ".btn-primary {\n",
       "  color: #eee;\n",
       "  background-color: #4481b7;\n",
       "  border-color: #222;\n",
       "  box-shadow: 0 0 2px rgba(0, 0, 0, 0.5);\n",
       "}\n",
       ".btn-primary:focus, .btn-primary:hover {\n",
       "  background-color: #4481b7;\n",
       "  color: #fff;\n",
       "}\n",
       ".btn-primary:active {\n",
       "  background-color: #306ea6;\n",
       "  color: #ccc;\n",
       "}\n",
       ".btn-primary:active:hover, .btn-primary:active:focus {\n",
       "  background-color: #306ea6;\n",
       "  color: #ccc;\n",
       "}\n",
       "\n",
       ".form-control {\n",
       "  background: #222;\n",
       "  color: #eee;\n",
       "  border-color: #777;\n",
       "}\n",
       ".form-control:focus {\n",
       "  border-color: #458ac1;\n",
       "  box-shadow: inset 0 1px 1px rgba(0,0,0,.075), 0 0 8px rgba(102, 175, 233, 0.3);\n",
       "}\n",
       ".form-control::selection {\n",
       "  background: rgba(221, 240, 255, 0.19);\n",
       "}\n",
       "\n",
       "#complete {\n",
       "  border-color: #444;\n",
       "  background: rgba(50, 50, 50, 0.95);\n",
       "  color: #b7b7b7;\n",
       "  -webkit-box-shadow: 0 6px 12px rgba(0, 0, 0, 0.3);\n",
       "  box-shadow: 0 6px 12px rgba(0, 0, 0, 0.3);\n",
       "}\n",
       ".completions select {\n",
       "  background: rgba(50, 50, 50, 0.95);\n",
       "  color: #b7b7b7;\n",
       "}\n",
       "\n",
       "/*\n",
       "  Set fonts and styles for outputted content\n",
       "*/\n",
       "\n",
       "div#notebook .text_cell_render {\n",
       "  font-size: 14px;\n",
       "  font-weight: 300;\n",
       "  line-height: 1.25;\n",
       "}\n",
       "\n",
       ".rendered_html p {\n",
       "    font-size: 14px;\n",
       "}\n",
       "\n",
       ".rendered_html li p {\n",
       "  margin-top: 1em;\n",
       "}\n",
       "\n",
       ".rendered_html h1 {\n",
       "    color: #CF4A4C;\n",
       "}\n",
       "\n",
       "div.output_html { \n",
       "    font-family: sans-serif;\n",
       "}\n",
       "\n",
       "/*\n",
       "  Set colors and styles that we only want on the screen, not for print\n",
       "*/\n",
       "\n",
       "@media not print {\n",
       "  .notebook_app div.cell.running .input .input_area {\n",
       "    border-left-color: #82591E;\n",
       "    -webkit-animation-name: pulseBorder;\n",
       "    -webkit-animation-duration: 1s;\n",
       "    -webkit-animation-iteration-count: infinite;\n",
       "    -webkit-animation-direction: alternate;\n",
       "    -webkit-animation-timing-function: ease-in-out;\n",
       "  }\n",
       "  @-webkit-keyframes pulseBorder {\n",
       "    from { border-left-color: #82591E; }\n",
       "    to { border-left-color: #eea236; }\n",
       "  }\n",
       "\n",
       "  .notebook_app div.input_prompt {color: #9b703f;}\n",
       "  .notebook_app div.output_prompt {color: #9b859d;}\n",
       "  .notebook_app div.input_area {\n",
       "    border-radius: 0px;\n",
       "    border: 1px solid #464b50;\n",
       "  }\n",
       "  .notebook_app div.output_subarea { max-width: 100%; }\n",
       "  .notebook_app div.output_area pre { font-weight: normal; color: #979797; }\n",
       "  .notebook_app div.output_subarea { font-weight: normal; color: #979797; }\n",
       "  .notebook_app div.output_stderr {background-color: #A0783C;}\n",
       "  .notebook_app div.output_stderr pre {color: #eee;}\n",
       "\n",
       "  .notebook_app .rendered_html table, .notebook_app .rendered_html th, .notebook_app .rendered_html tr, .notebook_app .rendered_html td {\n",
       "    border: 1px  #979797 solid;\n",
       "    color: #979797;\n",
       "  }\n",
       "  .notebook_app div.text_cell_render, .notebook_app div.output_html { color: #979797; }\n",
       "  .notebook_app table.dataframe tr { border: 1px #979797; }\n",
       "\n",
       "  .notebook_app .rendered_html pre, .notebook_app .rendered_html code {\n",
       "    border: 0;\n",
       "    background-color: #444;\n",
       "    color: #b0b0b0;\n",
       "    padding: 0;\n",
       "  }\n",
       "}\n",
       "\n",
       "/*\n",
       "  Terminal text coloring\n",
       "*/\n",
       "\n",
       "span.ansiblack {color: #323537;}\n",
       "span.ansiblue {color: #afc4db;}\n",
       "span.ansigray {color: #838184;}\n",
       "span.ansigreen {color: #8f9d6a;}\n",
       "span.ansipurple {color: #9b859d;}\n",
       "span.ansired {color: #cf6a4c;}\n",
       "span.ansiyellow {color: #f9ee98;}\n",
       "\n",
       "/*\n",
       "  Code editing\n",
       "*/\n",
       "\n",
       ".CodeMirror {background: #141414; color: #F8F8F8;}\n",
       "div.CodeMirror-selected {background: rgba(221, 240, 255, 0.19) !important;}\n",
       "#texteditor-backdrop #texteditor-container .CodeMirror-gutter, .CodeMirror-gutters {background: #444; border-right: 0px; color: #777;}\n",
       ".CodeMirror-linenumber {color: #b4b7b4;}\n",
       ".CodeMirror-cursor {border-left: 1px solid #A7A7A7 !important; margin-top: -2px; min-height: 18px;}\n",
       "\n",
       ".CodeMirror span.cm-comment {color: #5F5A60; font-style: italic;}\n",
       ".CodeMirror span.cm-atom {color: #CF6A4C;}\n",
       ".CodeMirror span.cm-number {color: #CF6A4C;}\n",
       "\n",
       ".CodeMirror span.cm-property {color: #F8F8F8;}\n",
       ".CodeMirror span.cm-attribute {color: #198844;}\n",
       ".CodeMirror span.cm-keyword {color: #CDA869; font-weight: normal;}\n",
       ".CodeMirror span.cm-string {color: #8F9D6A;}\n",
       ".CodeMirror span.cm-string-2 {color: #E9C062;} /* regexp */\n",
       ".CodeMirror span.cm-operator {color: #CDA869;}\n",
       ".CodeMirror span.cm-builtin {color: #A36AC7;}\n",
       "\n",
       ".CodeMirror span.cm-variable {color: #F8F8F8;}\n",
       ".CodeMirror span.cm-variable-2 {color: #7587A6;}\n",
       ".CodeMirror span.cm-variable-3 {color: #7587A6;}\n",
       ".CodeMirror span.cm-def {color: #9B703F;}\n",
       ".CodeMirror span.cm-error {color: #F8F8F8; background-color: rgba(86, 45, 86, 0.2);}\n",
       ".CodeMirror span.cm-bracket {color: #373b41;}\n",
       ".CodeMirror span.cm-tag {color: #7587A6;}\n",
       ".CodeMirror span.cm-link {color: #A36AC7;}\n",
       "\n",
       ".CodeMirror .CodeMirror-matchingbracket { background-color: #dd3; color: #303030 !important;}\n",
       "\n",
       "/*\n",
       "  Markdown editing\n",
       "*/\n",
       "\n",
       ".cm-s-default span.cm-header {color: #CF4A4C;}\n",
       ".cm-s-default span.cm-variable-2 {color: #7587A6;}\n",
       ".cm-s-default span.cm-comment {color: #7F7A80;}\n",
       "\n",
       "</style>\n"
      ],
      "text/plain": [
       "HTML{String}(\"<style>\\n/*\\n  Dark theme for Jupyter Notebook/iPython 4\\n  Author: Theodore Pak\\n  Repo at: https://github.com/powerpak/jupyter-dark-theme\\n\\n  Inspired by and adapted from the following:\\n  Base16 for iPython Notebook (https://github.com/nsonnad/base16-ipython-notebook)\\n  Base16 Twilight Dark, David Hart (http://hart-dev.com)\\n  CodeMirror template adapted for IPython Notebook by Nikhil Sonnad (https://github.com/nsonnad/base16-ipython-notebook)\\n  CodeMirror template by Jan T. Scott (https://github.com/idleberg/base16-chrome-devtools)\\n  Original Base16 color scheme by Chris Kempson (https://github.com/chriskempson/base16)\\n*/\\n\\n/* Suuposed to fix Chrome issue with math equations */\\n.MathJax nobr>span.math>span{border-left-width:0 !important};\\n\\n\\nbody, body.notebook_app.command_mode {\\n  font-family: -apple-system, BlinkMacSystemFont, \\\"Segoe UI\\\", \\\"Helvetica Neue\\\", Helvetica, Arial, sans-serif;\\n}\\n\\n/*\\n  SET THE CODE/MONOSPACE FONT\\n\\n  I prefer Bitsream Vera Sans Mono, which is freely downloadable here:\\n  http://www.dafont.com/bitstream-vera-mono.font\\n  However, there are plenty of alternatives at http://programmingfonts.org/\\n  in which case, add your preferred font to the stack below.\\n*/\\n\\n.CodeMirror pre, .CodeMirror-dialog, .CodeMirror-dialog .CodeMirror-search-field, .terminal-app .terminal {\\n    font-family: \\\"Consolas\\\", \\\"Bitstream Vera Sans Mono\\\", Monaco, monospace;\\n    font-size: 10pt;\\n}\\n.terminal-app .terminal { line-height: 1.3em; }\\ndiv.output pre, div.output code, .rendered_html pre, .rendered_html code, div.completions select, div.container pre {\\n  font-family: \\\"Consolas\\\", \\\"Bitstream Vera Sans Mono\\\", Monaco, monospace;\\n}\\ndiv.output pre, div.output code, .rendered_html pre, .rendered_html p code, div.completions select, div.container pre {\\n    font-size: 11pt;\\n}\\n\\n/* .rendered_html p {\\n    font-size: 12pt;\\n} */\\n\\ndiv.prompt, div.tooltiptext pre {\\n    font-family: \\\"Consolas\\\", \\\"Bitstream Vera Sans Mono\\\", Monaco, monospace;\\n    font-size: 9pt;\\n}\\n\\ndiv.input_area {\\n    border-color: rgba(0, 0, 0, 0.10);\\n    background: rbga(0, 0, 0, 0.5);\\n}\\n\\n/* GLOBALS */\\n\\n@media not print { body { background-color: #eee; } }\\na { color: #CF4A4C; }\\na:hover, a:focus { color: #DE6F71; }\\n\\n/* INTRO PAGE */\\n\\nbody[data-notebook-path] { background-color: #222; }\\nbody[data-notebook-path] #header, .terminal-app #header { display: none !important; }\\n\\n.tabbable { color: #979797; }\\n.nav-tabs { border-bottom-color: #444; }\\n.nav-tabs > li > a:hover, .nav > li > a:focus {\\n  background-color: #333;\\n  border-color: #222 #222 #555 #222;\\n}\\n.nav-tabs > li.active > a, .nav-tabs > li.active > a:focus, .nav-tabs > li.active > a:hover {\\n  color: #979797;\\n  background-color: #444;\\n  border-top-color: #444;\\n  border-right-color: #444;\\n  border-left-color: #444;\\n}\\n.list_container { border-color: #444; }\\n.list_container > div { border-bottom-color: #444; }\\n.list_item:hover { background-color: #333; }\\n.list_header { background-color: #444; }\\n#notebook_list input[type=\\\"checkbox\\\"] { opacity: 0.3; }\\n#notebook_list input[type=\\\"checkbox\\\"]:checked { opacity: 1; }\\n.item_icon { color: #777; }\\n.panel { border-color: #444; background-color: #222; }\\n.panel-default > .panel-heading { border-color: #444; }\\n#site .panel-group .panel .panel-heading { background-color: #444; }\\n#running .panel-group .panel .panel-body .list_container .list_item { border-bottom-color: #444; }\\n\\n/* Dropdown menus */\\n\\n.dropdown-menu {\\n  background: rgba(50, 50, 50, 0.95);\\n  color: #b7b7b7;\\n}\\n.dropdown-menu > li > a, .dropdown-submenu > a:after, .dropdown-menu > li > a:visited:after {\\n  color: #b7b7b7;\\n}\\n.dropdown-menu .divider {\\n  background-color: #444;\\n}\\n.dropdown-menu > li > a:hover, .dropdown-menu > li > a:focus {\\n  color: #fff;\\n  background-color: #444;\\n}\\n.dropdown-menu > li > a:hover:after, .dropdown-menu > li > a:focus:after,\\n.dropdown-menu > li > a:active:after {\\n  color: #fff;\\n}\\n\\n/* TERMINAL INTERFACE */\\n.terminal-app #site { background: #272727; }\\n.terminal-app .terminal { background: #141414 !important; }\\n\\n/* NOTEBOOK AND EDITOR INTERFACE */\\n\\n/* comment out the following line to unhide the toolbar */\\n/* div#maintoolbar { display: none !important; } */\\n\\n/*\\n  Header UI styles\\n*/\\n\\nbody.notebook_app > #header { display: block !important; }\\n.notebook_app > #header, .edit_app > #header {\\n  background-color: #333;\\n  color: #b7b7b7;\\n  -webkit-box-shadow: 0 6px 12px rgba(0, 0, 0, 0.3);\\n  box-shadow: 0 6px 12px rgba(0, 0, 0, 0.3);\\n}\\n.edit_app #menubar .navbar { margin-bottom: 0; }\\nbody > #header .header-bar { background: #444; }\\n#header .navbar-brand { display: none; }\\n#header .filename { margin-left: 0; margin-right: 2em; }\\n#header .current_kernel_logo { width: 24px; height: 24px; }\\n\\n/*Don't need to see jupyter logo, filename, last saved, etc.*/\\ndiv#header-container { display: none; }\\n\\nspan.save_widget span.filename:hover {\\n  background: rgba(255, 255, 255, 0.15);\\n  color: #fff;\\n  text-shadow: 0px 1px 1px rgba(0, 0, 0, 0.5);\\n}\\n.navbar-default {\\n  background: transparent;\\n  color: #b7b7b7;\\n  border-color: #444;\\n}\\n.navbar-default .navbar-nav > li > a:hover, .navbar-default .navbar-nav > li > a:focus {\\n  color: #fff;\\n}\\n.navbar-default .navbar-nav > .open > a, .navbar-default .navbar-nav > .open > a:hover,\\n.navbar-default .navbar-nav > .open > a:focus {\\n  color: #fff;\\n  background-color: #444;\\n}\\n\\n@media not print {\\n  .notebook_app #notebook {\\n    background: #111;\\n  }\\n\\n  .notebook_app #notebook-container, .edit_app #texteditor-backdrop {\\n    background: #272727;\\n  }\\n}\\n\\n/*\\n  Inverting the notebook editor UI\\n*/\\n\\n.celltoolbar {\\n  border-color: #444;\\n  background: #444;\\n  color: #b7b7b7;\\n}\\n.ctb_global_show .ctb_show ~ div.text_cell_render {\\n  border-color: #444;\\n}\\n.celltoolbar select {\\n  opacity: 0.5;\\n}\\n\\n.modal-dialog .modal-content, .popover, .popover .popover-title {\\n  background: rgba(50, 50, 50, 0.95);\\n  color: #b7b7b7;\\n}\\n.modal-header, .popover-title {\\n  border-bottom-color: #444;\\n}\\n.modal-footer {\\n  border-top-color: #444;\\n}\\n.modal-dialog .close {\\n  color: #fff;\\n  text-shadow: 0 1px 0 #000;\\n}\\n.modal-dialog .alert-info {\\n  background-color: #373E42;\\n  color: #d9edf7;\\n}\\n.popover.bottom > .arrow:after {\\n  border-bottom-color: #444;\\n}\\n\\n.btn:focus, .btn:active:focus {\\n  outline: 5px auto rgba(102, 175, 233, 0.3);\\n  outline-offset: -1px;\\n}\\n.btn-default {\\n  background-color: #555;\\n  border-color: #222;\\n  box-shadow: 0 0 1px rgba(0, 0, 0, 0.5);\\n  color: #aaa;\\n}\\n.btn-default:focus, .btn-default:hover {\\n  background-color: #555;\\n  border-color: #222;\\n  box-shadow: 0 0 3px rgba(0, 0, 0, 0.8);\\n  color: #bbb;\\n}\\n.btn-default:active, .btn-default.active, .open > .dropdown-toggle.btn-default {\\n  background-color: #474747;\\n  color: #999;\\n  box-shadow: inset 0 3px 5px rgba(0, 0, 0, 0.2);\\n}\\n.btn-default.disabled:focus, .btn-default.disabled:hover,\\n.btn-default[disabled]:focus, .btn-default[disabled]:hover {\\n  background-color: #555;\\n  border-color: #222;\\n  box-shadow: 0 0 1px rgba(0, 0, 0, 0.5);\\n  color: #aaa;\\n}\\n.btn-default:active:hover, .btn-default:active:focus,\\n.open > .dropdown-toggle.btn-default:hover, .open > .dropdown-toggle.btn-default:focus {\\n  background-color: #474747;\\n  color: #999;\\n  border-color: #222;\\n  box-shadow: inset 0 3px 5px rgba(0, 0, 0, 0.2);\\n}\\n\\n.btn-primary {\\n  color: #eee;\\n  background-color: #4481b7;\\n  border-color: #222;\\n  box-shadow: 0 0 2px rgba(0, 0, 0, 0.5);\\n}\\n.btn-primary:focus, .btn-primary:hover {\\n  background-color: #4481b7;\\n  color: #fff;\\n}\\n.btn-primary:active {\\n  background-color: #306ea6;\\n  color: #ccc;\\n}\\n.btn-primary:active:hover, .btn-primary:active:focus {\\n  background-color: #306ea6;\\n  color: #ccc;\\n}\\n\\n.form-control {\\n  background: #222;\\n  color: #eee;\\n  border-color: #777;\\n}\\n.form-control:focus {\\n  border-color: #458ac1;\\n  box-shadow: inset 0 1px 1px rgba(0,0,0,.075), 0 0 8px rgba(102, 175, 233, 0.3);\\n}\\n.form-control::selection {\\n  background: rgba(221, 240, 255, 0.19);\\n}\\n\\n#complete {\\n  border-color: #444;\\n  background: rgba(50, 50, 50, 0.95);\\n  color: #b7b7b7;\\n  -webkit-box-shadow: 0 6px 12px rgba(0, 0, 0, 0.3);\\n  box-shadow: 0 6px 12px rgba(0, 0, 0, 0.3);\\n}\\n.completions select {\\n  background: rgba(50, 50, 50, 0.95);\\n  color: #b7b7b7;\\n}\\n\\n/*\\n  Set fonts and styles for outputted content\\n*/\\n\\ndiv#notebook .text_cell_render {\\n  font-size: 14px;\\n  font-weight: 300;\\n  line-height: 1.25;\\n}\\n\\n.rendered_html p {\\n    font-size: 14px;\\n}\\n\\n.rendered_html li p {\\n  margin-top: 1em;\\n}\\n\\n.rendered_html h1 {\\n    color: #CF4A4C;\\n}\\n\\ndiv.output_html { \\n    font-family: sans-serif;\\n}\\n\\n/*\\n  Set colors and styles that we only want on the screen, not for print\\n*/\\n\\n@media not print {\\n  .notebook_app div.cell.running .input .input_area {\\n    border-left-color: #82591E;\\n    -webkit-animation-name: pulseBorder;\\n    -webkit-animation-duration: 1s;\\n    -webkit-animation-iteration-count: infinite;\\n    -webkit-animation-direction: alternate;\\n    -webkit-animation-timing-function: ease-in-out;\\n  }\\n  @-webkit-keyframes pulseBorder {\\n    from { border-left-color: #82591E; }\\n    to { border-left-color: #eea236; }\\n  }\\n\\n  .notebook_app div.input_prompt {color: #9b703f;}\\n  .notebook_app div.output_prompt {color: #9b859d;}\\n  .notebook_app div.input_area {\\n    border-radius: 0px;\\n    border: 1px solid #464b50;\\n  }\\n  .notebook_app div.output_subarea { max-width: 100%; }\\n  .notebook_app div.output_area pre { font-weight: normal; color: #979797; }\\n  .notebook_app div.output_subarea { font-weight: normal; color: #979797; }\\n  .notebook_app div.output_stderr {background-color: #A0783C;}\\n  .notebook_app div.output_stderr pre {color: #eee;}\\n\\n  .notebook_app .rendered_html table, .notebook_app .rendered_html th, .notebook_app .rendered_html tr, .notebook_app .rendered_html td {\\n    border: 1px  #979797 solid;\\n    color: #979797;\\n  }\\n  .notebook_app div.text_cell_render, .notebook_app div.output_html { color: #979797; }\\n  .notebook_app table.dataframe tr { border: 1px #979797; }\\n\\n  .notebook_app .rendered_html pre, .notebook_app .rendered_html code {\\n    border: 0;\\n    background-color: #444;\\n    color: #b0b0b0;\\n    padding: 0;\\n  }\\n}\\n\\n/*\\n  Terminal text coloring\\n*/\\n\\nspan.ansiblack {color: #323537;}\\nspan.ansiblue {color: #afc4db;}\\nspan.ansigray {color: #838184;}\\nspan.ansigreen {color: #8f9d6a;}\\nspan.ansipurple {color: #9b859d;}\\nspan.ansired {color: #cf6a4c;}\\nspan.ansiyellow {color: #f9ee98;}\\n\\n/*\\n  Code editing\\n*/\\n\\n.CodeMirror {background: #141414; color: #F8F8F8;}\\ndiv.CodeMirror-selected {background: rgba(221, 240, 255, 0.19) !important;}\\n#texteditor-backdrop #texteditor-container .CodeMirror-gutter, .CodeMirror-gutters {background: #444; border-right: 0px; color: #777;}\\n.CodeMirror-linenumber {color: #b4b7b4;}\\n.CodeMirror-cursor {border-left: 1px solid #A7A7A7 !important; margin-top: -2px; min-height: 18px;}\\n\\n.CodeMirror span.cm-comment {color: #5F5A60; font-style: italic;}\\n.CodeMirror span.cm-atom {color: #CF6A4C;}\\n.CodeMirror span.cm-number {color: #CF6A4C;}\\n\\n.CodeMirror span.cm-property {color: #F8F8F8;}\\n.CodeMirror span.cm-attribute {color: #198844;}\\n.CodeMirror span.cm-keyword {color: #CDA869; font-weight: normal;}\\n.CodeMirror span.cm-string {color: #8F9D6A;}\\n.CodeMirror span.cm-string-2 {color: #E9C062;} /* regexp */\\n.CodeMirror span.cm-operator {color: #CDA869;}\\n.CodeMirror span.cm-builtin {color: #A36AC7;}\\n\\n.CodeMirror span.cm-variable {color: #F8F8F8;}\\n.CodeMirror span.cm-variable-2 {color: #7587A6;}\\n.CodeMirror span.cm-variable-3 {color: #7587A6;}\\n.CodeMirror span.cm-def {color: #9B703F;}\\n.CodeMirror span.cm-error {color: #F8F8F8; background-color: rgba(86, 45, 86, 0.2);}\\n.CodeMirror span.cm-bracket {color: #373b41;}\\n.CodeMirror span.cm-tag {color: #7587A6;}\\n.CodeMirror span.cm-link {color: #A36AC7;}\\n\\n.CodeMirror .CodeMirror-matchingbracket { background-color: #dd3; color: #303030 !important;}\\n\\n/*\\n  Markdown editing\\n*/\\n\\n.cm-s-default span.cm-header {color: #CF4A4C;}\\n.cm-s-default span.cm-variable-2 {color: #7587A6;}\\n.cm-s-default span.cm-comment {color: #7F7A80;}\\n\\n</style>\\n\")"
      ]
     },
     "execution_count": 1,
     "metadata": {},
     "output_type": "execute_result"
    }
   ],
   "source": [
    "file = open(\"custom.css\") # A .css file in the same folder as this notebook file\n",
    "styl = readstring(file) # Read the file\n",
    "HTML(\"$styl\") # Output as HTML"
   ]
  },
  {
   "cell_type": "code",
   "execution_count": null,
   "metadata": {},
   "outputs": [],
   "source": [
    "using SymPy\n",
    "using Plots\n",
    "using LaTeXStrings\n",
    "using LatexPrint"
   ]
  },
  {
   "cell_type": "code",
   "execution_count": 13,
   "metadata": {},
   "outputs": [
    {
     "name": "stderr",
     "output_type": "stream",
     "text": [
      "\u001b[1m\u001b[36mINFO: \u001b[39m\u001b[22m\u001b[36mRecompiling stale cache file C:\\Users\\alexe\\.julia\\lib\\v0.6\\DifferentialEquations.ji for module DifferentialEquations.\n",
      "\u001b[39m"
     ]
    }
   ],
   "source": [
    "using DifferentialEquations"
   ]
  },
  {
   "cell_type": "code",
   "execution_count": null,
   "metadata": {},
   "outputs": [],
   "source": [
    "theme(:dark)\n",
    "pyplot(size=(300,200), frame=true)"
   ]
  },
  {
   "cell_type": "markdown",
   "metadata": {},
   "source": [
    "# Understanding partial differential equations: physics, maths and numerical methods"
   ]
  },
  {
   "cell_type": "markdown",
   "metadata": {},
   "source": [
    "Partial differential equations(PDE) course (or sometimes called \"Equations of mathematical physics\") is a tough one. If you have an experience in *ordinary differential equations* (ODE) and think that it is just some extension, you are up for a big surprise. I myself got caught in this during my undegrad. On the top of this, the subject is often taught in a rather abstract way. If you've just done a PDE course, how would you answer \"*What have I learnt*?\"\n",
    "\n",
    "I found my personal key to undetstand PDEs through years of practice by solving engineering problems involving them. There are three steps in the process. First, physical formulation. As a mathematician, initially I used to overlook this part. However, a simple physical consideration can povide clues for solving the problem. Second, mathematical formulation. Here one can go straight to one of the well-known conservation equations. The nature of engineering problems, however, is such that one must be very careful in choosing the appropriate equation. I never cared to memorise all of them for different cases. Instead, I can just derive them: the technique is simple and results in a correct equation in each case. Third, find the solution. As engineering problems most of the times are non-linear, finding the solution means developing a suitable numerical scheme. Let's look at each stage and see what we can learn from each of them, using a simple example of a heat transfer."
   ]
  },
  {
   "cell_type": "markdown",
   "metadata": {},
   "source": [
    "## Physical problem\n",
    "\n",
    "Consider the following physical system. A liquid flows in a channel from left ($x=0$) to right ($x=1$) with some known velocity $v$, but in genreal it may not be a constant, i.e. $v=v(t,x)$. Let's consider two cases:\n",
    "1. Liquid \"particles\" are not allowed to mix;\n",
    "2. Liquid \"particles\" mix and can exchange the energy.\n",
    "\n",
    "The former provides a pure convective transport. Let's imaging initial state where the temperature in the channel is zero (in some suitable units) and at $x=0$ we pump hotter liquid at temperature one. If $v=\\mathrm{const}$ we expect the hot front (mathematically, it would be a discontinuity front) to move from left to the right as time goes forward. Essentially, each space point will become instanteneosly hot once the hot liquid reaches it. The case with mixing, however, provides a different image: here the temperature will disperse through the liquid, warming up neighbouring regions and cooling itself in exchange. If the dispersion is fast enough, there will be no visible front. Instead, points somewhat removed from $x=0$ will gradually increase their temperature via dispersion until moving hot liquid reaches it. This physical description of the process already sets us up on the path of formulating the problem mathematically and finding its solution. Next step is to derive the conservation principle.  "
   ]
  },
  {
   "cell_type": "markdown",
   "metadata": {},
   "source": [
    "## Conservation principle\n",
    "\n",
    "Let $u(t,x)$ denote the temperature at time $t$ and point $x$ of *space*. This is Eulerian view of the problem. Lagrangian view would be to study temperature $u^*(t,\\xi)$ at time $t$ of a liquid \"particle\" $\\xi$. Two views can be connected if, for example, $\\xi$ is a position of a \"particle\" at time $t=0$. Then\n",
    "$$\n",
    "u(t,x) = u^*\\left(t, (x^*)^{-1}(t, x)\\right)\n",
    "$$\n",
    "where $x=x^*(t,\\xi)$ is a trajectory of a particle. Let's stop for a second and ponder. *What does the above equation mean?* In words, it says that *the temperature at time $t$ at point $x$ of space is the temperature of a liquid that happens to be at that point; we find the liquid \"particle\" $\\xi$ by tracing back its trajectory*. Lagrangian view is useful in derivation of the conservation equations. However, Eulerian view is more useful from practical perspective. In Eulerian view, we are concerned with a place in space and let the liquid pass through it. Since we cannot describe the conservation at a point in an easy way, we will look at some volume $V$. The conservation principle for the volume $V$ becomes\n",
    "\n",
    "> Change in internal energy = What comes in $-$ what comes out $\\pm$ sources and sinks\n",
    "\n",
    "Sources and sinks are present only because the system is not closed and there is some external interraction. For example, a portion of a channel might be heated up externally. Or there might be a chemical reaction occurring in the liquid that produces or consumes the heat. (this conservation principle can stated not only for energy, but also for mass, momentum, angular momentum and entropy; entropy presents an interesting case since for entropy there will be a source term for a closed system, but this is another story...) Mathematically the conservation principle is expressed as follows:\n",
    "$$\n",
    "\\frac{\\partial}{\\partial t}\\int_V c u\\,dV = -\\int_{\\partial V}J\\cdot\\nu\\,dS + \\int_V r\\,dV,\n",
    "$$\n",
    "where $c$ is heat capacity and is assumed $c=1$ for simplicity, $J$ is heat flux through the volume surface $\\partial V$, $\\nu$ is outer normal to $\\partial V$, $a\\cdot b$ denotes dot-product and $r$ is the source term which we will assume to be zero. With stated simplifications, above equation becomes:\n",
    "$$\n",
    "\\frac{\\partial}{\\partial t}\\int_V u\\,dV = -\\int_{\\partial V}J\\cdot\\nu\\,dS\n",
    "$$\n",
    "Now, we will use divergence theorem to transform the integral on the RHS to the volume integral:\n",
    "$$\n",
    "\\frac{\\partial}{\\partial t}\\int_V u\\,dV = -\\int_{V}\\nabla\\cdot J\\,dV.\n",
    "$$\n",
    "Here the dot-product notation was used to avoid the confusion between divergence and gradient operators. Since volume $V$ does not change in time, the time derivative can be brought under the integration:\n",
    "$$\n",
    "\\int_V \\left( \\frac{\\partial u}{\\partial t} +\\nabla\\cdot J\\right)\\,dV = 0.\n",
    "$$\n",
    "Finally, as this equation must be true for every volume $V$, the expression under the integral must be zero:\n",
    "$$\n",
    "\\frac{\\partial u}{\\partial t} +\\nabla\\cdot J=0.\n",
    "$$\n",
    "We have successfully derived a differential form of the conservation equation, often also called *continuity equation*. The last step that is left is to specify the the form of the flux $J$. In the first case of no mixing, $J$ is pure convection:\n",
    "$$\n",
    "J_1 = u v.\n",
    "$$\n",
    "If the mixing is allowed, heat conduction flux, known as Fourier's law, is added:\n",
    "$$\n",
    "J_2 = u v - k\\nabla u.\n",
    "$$\n",
    "Here $\\nabla u$ is a gradient of a scalar $u$. It must be stated that unlike convection, Fourier's law and similar Fick's law for diffusion and Newton's law for momentum are not fundamental, but rather experimentally derived approximations of the physical reality. We can see that pure convection is actually a special case of more general second flux when $k=0$. Using more general form, the continuity equation becomes\n",
    "$$\n",
    "\\frac{\\partial u}{\\partial t} +\\nabla\\cdot (uv) - \\nabla\\cdot(k\\nabla u) = 0.\n",
    "$$\n",
    "In 1D-case with $v$ and $k$ being constants it becomes\n",
    "$$\n",
    "\\frac{\\partial u}{\\partial t} +v\\frac{\\partial u}{\\partial x} - k\\frac{\\partial^2 u}{\\partial x^2} = 0.\n",
    "$$"
   ]
  },
  {
   "cell_type": "markdown",
   "metadata": {},
   "source": [
    "## Solution of convection equation\n",
    "\n",
    "Let's assume for a moment $k=0$ but, to keep things interesting, let's make velocity non-constant $v=v(x)\\geq0$:\n",
    "$$\n",
    "\\frac{\\partial u}{\\partial t} + \\frac{\\partial (v u)}{\\partial x} = \\frac{\\partial u}{\\partial t} + v(x)\\frac{\\partial u}{\\partial x}+v'(x) u= 0.\n",
    "$$\n",
    "This is *the first order linear PDE with non-constant coefficients*. To simplify the discussion, let's assume that the channel is infinite, but we will be interested in just a segment of it. Then, the solution will only require initial condition $u(0,x)=u_0(x)$. Considering our original statement of a cold liquid in a channel and hot liquid rushing-in from $x=0$, initial condition can be stated as\n",
    "$$\n",
    "u_0(x)=1 - \\theta(x),\n",
    "$$\n",
    "where $\\theta(x)$ is a step function: it is zero for $x<0$ and 1 for $x\\geq0$. *Wait a second! This function is not even continuous, never mind being differentiable!* We need to resolve this problem. Let's look at the physics. It won't be possible to achieve exact hot front physically as some heat dispersion will always exist. So, in reality we have not a step function, but some smooth and rapidly changing function. Nevertheless, step function is a good reality approximation and it is desirable to be able to work with it directly.\n",
    "\n",
    "\n",
    "### Classical solution\n",
    "\n",
    "Let's first examine a smooth case and assume\n",
    "$$\n",
    "u = \n",
    "\\begin{cases}\n",
    "1, x<-\\delta\\\\\n",
    "\\frac{1}{2}-\\frac{1}{2}\\sin\\left(\\frac{\\pi x}{2\\delta}\\right),-\\delta\\leq x < \\delta\\\\\n",
    "0, x \\geq\\delta\n",
    "\\end{cases}\n",
    "$$\n",
    "in which case $u_0(x)$ is continuous with its first derivative:"
   ]
  },
  {
   "cell_type": "code",
   "execution_count": 4,
   "metadata": {},
   "outputs": [
    {
     "data": {
      "text/plain": [
       "u0 (generic function with 1 method)"
      ]
     },
     "execution_count": 4,
     "metadata": {},
     "output_type": "execute_result"
    }
   ],
   "source": [
    "function u0(x)\n",
    "    δ = 0.1\n",
    "    if x < -δ\n",
    "        1.0\n",
    "    elseif x < δ\n",
    "        1/2 - 1/2*sin(π*x/(2*δ))\n",
    "    else\n",
    "        0.0\n",
    "    end\n",
    "end"
   ]
  },
  {
   "cell_type": "code",
   "execution_count": 6,
   "metadata": {},
   "outputs": [
    {
     "data": {
      "image/png": "[encoded data removed]"
     },
     "execution_count": 6,
     "metadata": {},
     "output_type": "execute_result"
    }
   ],
   "source": [
    "plot(u0, -0.5, 0.5, ylims=(0.0, 1.05), leg = :none)"
   ]
  },
  {
   "cell_type": "code",
   "execution_count": 11,
   "metadata": {},
   "outputs": [
    {
     "data": {
      "text/latex": [
       "$$- \\frac{0.25 \\pi}{\\delta} \\cos{\\left (\\frac{\\pi x}{2 \\delta} \\right )}$$"
      ],
      "text/plain": [
       "            /  pi*x \\ \n",
       "-0.25*pi*cos|-------| \n",
       "            \\2*delta/ \n",
       "----------------------\n",
       "        delta         "
      ]
     },
     "metadata": {},
     "output_type": "display_data"
    },
    {
     "data": {
      "text/plain": [
       "(0, 0)"
      ]
     },
     "execution_count": 11,
     "metadata": {},
     "output_type": "execute_result"
    }
   ],
   "source": [
    "@syms x\n",
    "δ = Sym(\"delta\")\n",
    "\n",
    "du0 = diff(1/2-1/2*sin(PI*x / (2*δ)), x)\n",
    "display(du0)\n",
    "\n",
    "(du0(x=>-δ), du0(x => δ))"
   ]
  },
  {
   "cell_type": "markdown",
   "metadata": {},
   "source": [
    "The solution of the PDE is found by re-writing it in the form\n",
    "$$\n",
    "\\frac{\\partial u}{\\partial t} + v(x)\\frac{\\partial u}{\\partial x} = -v'(x) u\n",
    "$$\n",
    "and noticing that in the extended space $\\mathbb{R}^2_{x,t}$ the left-hand-side of the equation is the dot-product of the extended velocity vector $V=\\{1,v(x)\\}$ and extended gradient of $u$: $\\{\\partial_t u,\\partial_x u\\}$. If $x^*(t,\\xi)$ are the trajectories of liquid \"particles\", then the equation means that *the rate of change of temperature $u$ along the trajectory is $-v'(x)u$*. This is the basis of the method of characteristics consisting of two equations. The first equation defines trajectories (or characteristics):\n",
    "$$\n",
    "\\dot x^* = \\frac{\\partial x^*(t,\\xi)}{\\partial t} = v(x)\n",
    "$$\n",
    "and the second equation defines the change of temperature on the trajectory, i.e. the temperature of the liquid \"particle\":\n",
    "$$\n",
    "\\dot u^* = -v'(x)u^*.\n",
    "$$\n",
    "The solution of the first equation obtained by solving the algebraic equation\n",
    "$$\n",
    "\\int_\\xi^x \\frac{dy}{v(y)} = t\n",
    "$$\n",
    "for $x^*$. However, as it will be seen, what we really need is not the trajectory itself, but its inverse: $\\xi=\\xi(t,x)$, i.e. we need to find initial position of the particle that happens to be in $x$ at time $t$.\n",
    "\n",
    "> Before moving on and solving the second equation, let's stop for a second. *Why would the temperature change?* The PDE was a result of energy balance. Notice, the change of the temperature of the single \"particle\" will only happen if the velocity field $v(x)$ is non-constant. Furthermore, temperature should *increase* when the velocity *decreases*. What we seem to see here is transition of energy from internal to kinetic and back!\n",
    "\n",
    "Now, to the solution. If the trajectory is known, the above equation becomes\n",
    "$$\n",
    "\\dot u^* = -f(t,\\xi)u^*\n",
    "$$\n",
    "where $f(t,\\xi) = v'\\circ x^*(t,\\xi)$, i.e. value of $v'(x)$ is taken on the trajectory. Solution of this equation is\n",
    "$$\n",
    "\\int_{u_0}^{u^*} \\frac{dU}{U} = -\\int_0^t f(t,\\xi)dt\n",
    "$$\n",
    "Since $f(t,\\xi)$ has quite a special form, we may hope to move further in integration."
   ]
  },
  {
   "cell_type": "markdown",
   "metadata": {},
   "source": [
    "Let's differentiate $v^*(t,\\xi)=v\\left(x^*(t,\\xi)\\right)$ with respect to $t$:\n",
    "$$\n",
    "\\frac{\\partial}{\\partial t}v\\left(x^*(t,\\xi)\\right) = \\left.v'(x)\\right|_{x=x^*(t,\\xi)}v^*(t,\\xi)=f(t,\\xi)v^*(t,\\xi)\n",
    "$$\n",
    "Thus, the avove integration can be re-written as follows:\n",
    "$$\n",
    "\\log\\frac{u^*}{u_0} = -\\int_0^t \\frac{\\dot v^*}{v^*(t,\\xi)} dt = -\\int_{v^*(0,\\xi)}^{v^*(t,\\xi)}\\frac{dv^*}{v^*}=\n",
    "\\log\\frac{v(\\xi)}{v^*(t,\\xi)}.\n",
    "$$\n",
    "Still in Lagrangian coordinates this simplifies to\n",
    "$$\n",
    "u^*(t,\\xi) = u_0(\\xi)\\frac{v(\\xi)}{v\\left(x^*(t,\\xi)\\right)}\n",
    "$$\n",
    "Let's use the inverse of the trajectories to get the solution in the Eulerian view\n",
    "$$\n",
    "u(t,x) = u_0(\\xi)\\frac{v(\\xi)}{v(x)},\\quad\\text{where }\\xi = \\left(x^*\\right)^{-1}(t,x).\n",
    "$$"
   ]
  },
  {
   "cell_type": "markdown",
   "metadata": {},
   "source": [
    ">A sceptical reader at this point should have an itch as we have ignored a few corner cases. Most importantly, what if the trajectory is not invertable? I.e. if we cannot restore initial position from the point $(t,x)$. For example, consider the field $v(x)=e^{-x}$. Then particles from smaller $x$ position will catch up with slower moving particles in larger $x$ positions. At some point in time $T$ in place $x$ there will be particles from multiple initial positions $\\xi$. This kind of time $T$ gives us an upper time boundary for a classical solution. Another problem is if velocity field becomes zero. We side-step the issue by assuming that $v(x)>0$. Finally, it is left to a reader to check that $u_0=0$ does not present an issue for the final solution.\n",
    "\n",
    "**The final note on the solution before moving on**: since for the Eulerian view solution $u(t,x)$ we need to find initial positions $\\xi$ of particles at $(t,x)$, it makes sense to solve the trajectory equation back in time: find $y$ at time $t$, such that\n",
    "$$\n",
    "\\dot y = -v(y),\\quad y(0) = x.\n",
    "$$\n",
    "With this equation we are moving backward along the trajectory from $x$ to the initial position $\\xi=y(t)$.\n",
    "\n",
    "Finally, the solution procedure looks as follows. If want to find the solution of\n",
    "$$\n",
    "\\partial_t u + \\partial_x\\left(v(x)u\\right) = 0,\\quad u(0,x)=u_0(x)\n",
    "$$\n",
    "for $t\\in[0,T]$ and $x\\in[a,b]$, perform the following:\n",
    "\n",
    "1. Partition $0=t_0<t_1<\\dots<t_m=T$ and  $a=x_0<x_1<x_2<\\dots<x_n=b$. This is only necessary if the following step cannot be completed analytically.\n",
    "2. Solve $\\dot y = -v(y)$ with $y(0)=x$ for $y(t)$. If it cannot be solved analytically, solve numerically for each time $t_i$ and each initial value $x_j$ getting initial positions $\\xi_{i,j}$.\n",
    "3. Calculate\n",
    "   $$\n",
    "   u(t,x) = u_0(\\xi)\\frac{v(\\xi)}{v(x)}\n",
    "   $$\n",
    "   or on $(t_i, x_j)$ and corresponding $\\xi_{i,j}$.\n",
    "\n",
    "The following code implements this procedure. It uses Tsitouras 5/4 Runge-Kutta method of `DifferentialEquations.jl` package to numerically solve the differential equation."
   ]
  },
  {
   "cell_type": "code",
   "execution_count": 14,
   "metadata": {},
   "outputs": [
    {
     "data": {
      "text/plain": [
       "solveConvection (generic function with 1 method)"
      ]
     },
     "execution_count": 14,
     "metadata": {},
     "output_type": "execute_result"
    }
   ],
   "source": [
    "function solveConvection(u0, v, tmax, a, b, M, N)\n",
    "    # Partitions:\n",
    "    tpts = zeros(M+1)\n",
    "    xpts = zeros(N+1)\n",
    "    map!(i -> tmax/M*i, tpts, 0:M)\n",
    "    map!(j -> a + (b-a)/N*j, xpts, 0:N)\n",
    "    # Velocity field: it is constant in time, can\n",
    "    # calculate it once\n",
    "    vx = v.(xpts)\n",
    "    # Storage for initial positions\n",
    "    # Take advantage of column-major matrix\n",
    "    ξ = zeros(N+1, M+1)\n",
    "    # Solutions\n",
    "    u = zeros(N+1, M+1)\n",
    "    # Initial condition\n",
    "    u[:, 1] .= u0.(xpts)\n",
    "    # Initial positions:\n",
    "    ξ[:, 1] = xpts[:]\n",
    "    # Differential equation RHS in a vector form:\n",
    "    function vODE(dy, y, p, t)\n",
    "        dy[:] .= -v.(y)\n",
    "    end\n",
    "    # For every time point\n",
    "    for i in 1:M\n",
    "        # xpts might be mingled by ODE solver: restore from a copy\n",
    "        xpts[:] = ξ[:,1]\n",
    "        let tspan = (0.0, tpts[i+1]),\n",
    "            prob = ODEProblem(vODE, xpts, tspan),\n",
    "            sol  = DifferentialEquations.solve(prob,Tsit5(),reltol=1e-8,abstol=1e-8)\n",
    "            # Store initial points\n",
    "            ξ[:, i+1] = sol(tpts[i+1])\n",
    "            # Calculate the temperature\n",
    "            u[:, i+1] .= u0.(ξ[:,i+1]) .* v.(ξ[:,i+1]) ./ vx\n",
    "        end\n",
    "    end\n",
    "    return (u, ξ[:,1], tpts)    \n",
    "end"
   ]
  },
  {
   "cell_type": "markdown",
   "metadata": {},
   "source": [
    "Let's use this procedure to solve for the field $v(x)=e^x$ for which trajectories are unique:"
   ]
  },
  {
   "cell_type": "code",
   "execution_count": 16,
   "metadata": {},
   "outputs": [
    {
     "data": {
      "image/png": "[encoded data removed]"
     },
     "execution_count": 16,
     "metadata": {},
     "output_type": "execute_result"
    }
   ],
   "source": [
    "usol, xpts, tpts = solveConvection(u0, x -> exp(x), 1.0, -1.0, 2.0, 100, 100);\n",
    "\n",
    "plot(xlabel = \"x\", ylabel=\"u\", ylims=(0.0,1.01))\n",
    "for j=1:20:101\n",
    "    plot!(xpts, usol[:, j],lab = \"t = $(tpts[j])\")\n",
    "end\n",
    "plot!()"
   ]
  },
  {
   "cell_type": "markdown",
   "metadata": {},
   "source": [
    "This can be compared with the exact solution\n",
    "$$\n",
    "u(t,x) = u_0\\left(\\log\\frac{1}{e^{-x}+t}\\right)\\left(1-\\frac{t}{e^{-x}+t}\\right)\n",
    "$$"
   ]
  },
  {
   "cell_type": "code",
   "execution_count": 17,
   "metadata": {},
   "outputs": [
    {
     "data": {
      "image/png": "[encoded data removed]"
     },
     "execution_count": 17,
     "metadata": {},
     "output_type": "execute_result"
    }
   ],
   "source": [
    "plot(xlabel = \"x\", ylabel=\"u\",ylims=(0.0,1.01))\n",
    "for t in [0.0, 0.2, 0.4, 0.6, 0.8, 1.0]\n",
    "    plot!(x -> u0(-log(exp(-x)+t))*(1 - t / (exp(-x)+t)), -1.0, 2.0, lab = \"t = $t\")\n",
    "end\n",
    "plot!()"
   ]
  },
  {
   "cell_type": "markdown",
   "metadata": {},
   "source": [
    "Let's examine the solution qualitatively. Initial hot front is moving to the right since velocity field $v(x)>0$. Furthermore, it is spreading as particles with larger $x$ move faster compared to particles with smaller $x$.\n",
    "\n",
    "And let's see what happens for the field $v(x)=e^{-x}$. Here the fast moving particles are catching up with slower ones. Furthermore, they slow down as they arrive to larger $x$, releasing internal energy. Some trajectories eventually will collide. Thus, we expect the solution to break down at some point."
   ]
  },
  {
   "cell_type": "code",
   "execution_count": 18,
   "metadata": {},
   "outputs": [
    {
     "data": {
      "image/png": "[encoded data removed]"
     },
     "execution_count": 18,
     "metadata": {},
     "output_type": "execute_result"
    }
   ],
   "source": [
    "usol, xpts, tpts = solveConvection(u0, x -> exp(-x), 0.5, -0.1, 2.0, 100, 100);\n",
    "\n",
    "plot(xlabel = \"x\", ylabel=\"u\")\n",
    "for j=1:20:101\n",
    "    plot!(xpts, usol[:, j],lab = \"t = $(tpts[j])\")\n",
    "end\n",
    "plot!()"
   ]
  },
  {
   "cell_type": "markdown",
   "metadata": {},
   "source": [
    "Notice how the temperature grows unbounded for small $x$. Furthermore, initial smooth step becomes steeper. The time upper boundary had to be restricted as the numerical solver starts failing. Exact solution in this case is\n",
    "$$\n",
    "u(t,x) = u_0\\left(\\log\\left(e^x-t\\right)\\right)\\left(1+\\frac{t}{e^x-t}\\right)\n",
    "$$\n",
    "and it has a singularity when $t=e^x$. The smallest $x$ considered was $x=-0.1$. Thus, the lagest $t$ before singularity is"
   ]
  },
  {
   "cell_type": "code",
   "execution_count": 19,
   "metadata": {},
   "outputs": [
    {
     "data": {
      "text/plain": [
       "0.9048374180359595"
      ]
     },
     "execution_count": 19,
     "metadata": {},
     "output_type": "execute_result"
    }
   ],
   "source": [
    "exp(-0.1)"
   ]
  },
  {
   "cell_type": "markdown",
   "metadata": {},
   "source": [
    "While there is an advantage in using the filed $v(x)=e^{-x}$ to get an analytical solution, this field is rather unphysical as the velocity grows too fast as $x$ decreases. Let's restrict the velocity field and make it step-wise linear:\n",
    "$$\n",
    "v(x) = \n",
    "\\begin{cases}\n",
    "1.0, x < -\\delta\\\\\n",
    "1-\\frac{0.9}{2\\delta}(x+\\delta), -\\delta \\le x < \\delta\\\\\n",
    "0.1, x \\geq\\delta\n",
    "\\end{cases}\n",
    "$$"
   ]
  },
  {
   "cell_type": "code",
   "execution_count": 22,
   "metadata": {},
   "outputs": [
    {
     "data": {
      "text/plain": [
       "vlin (generic function with 1 method)"
      ]
     },
     "execution_count": 22,
     "metadata": {},
     "output_type": "execute_result"
    }
   ],
   "source": [
    "function vlin(x)\n",
    "    δ = 0.1\n",
    "    if x <= -δ\n",
    "        1.0\n",
    "    elseif x>= δ\n",
    "        0.5\n",
    "    else\n",
    "        1.0 - 0.5/(2δ)*(x+δ)\n",
    "    end\n",
    "end"
   ]
  },
  {
   "cell_type": "code",
   "execution_count": 24,
   "metadata": {},
   "outputs": [
    {
     "data": {
      "image/png": "[encoded data removed]"
     },
     "execution_count": 24,
     "metadata": {},
     "output_type": "execute_result"
    }
   ],
   "source": [
    "plot(vlin, -0.5,0.5, ylim=(0.0, 1.01),leg=:none)"
   ]
  },
  {
   "cell_type": "code",
   "execution_count": 21,
   "metadata": {},
   "outputs": [
    {
     "data": {
      "image/png": "[encoded data removed]"
     },
     "execution_count": 21,
     "metadata": {},
     "output_type": "execute_result"
    }
   ],
   "source": [
    "usol, xpts, tpts = solveConvection(u0, vlin, 0.2, -0.5, 0.5, 100, 100);\n",
    "\n",
    "plot(xlabel = \"x\", ylabel=\"u\")\n",
    "for j=1:20:101\n",
    "    plot!(xpts, usol[:, j],lab = \"t = $(tpts[j])\")\n",
    "end\n",
    "plot!()"
   ]
  },
  {
   "cell_type": "markdown",
   "metadata": {},
   "source": [
    "Interestingly, we even can find the solution for discontinuous $v(x)$. It would result in discontinuous $u(t,x)$, but let's park this issue for a moment (in fact, the previous example already had a discontinuity in $\\partial_x u$). For example, if\n",
    "$$\n",
    "v(x) = \n",
    "\\begin{cases}\n",
    "0.5, x < -\\delta\\\\\n",
    "1-\\frac{0.9}{2\\delta}(x+\\delta), -\\delta \\le x < \\delta\\\\\n",
    "0.5, x \\geq\\delta\n",
    "\\end{cases}\n",
    "$$\n",
    "i.e. there is a narrow piece of fast moving liquid. Let's look at the result."
   ]
  },
  {
   "cell_type": "code",
   "execution_count": 29,
   "metadata": {},
   "outputs": [
    {
     "data": {
      "image/png": "[encoded data removed]"
     },
     "execution_count": 29,
     "metadata": {},
     "output_type": "execute_result"
    }
   ],
   "source": [
    "function vlin2(x)\n",
    "    δ = 0.1\n",
    "    if x <= -δ\n",
    "        0.5\n",
    "    elseif x>= δ\n",
    "        0.5\n",
    "    else\n",
    "        1.0 - 0.5/(2δ)*(x+δ)\n",
    "    end\n",
    "end\n",
    "plot(vlin2, -0.5, 0.5, ylims=(0.0,1.01))"
   ]
  },
  {
   "cell_type": "code",
   "execution_count": 30,
   "metadata": {},
   "outputs": [
    {
     "data": {
      "image/png": "[encoded data removed]"
     },
     "execution_count": 30,
     "metadata": {},
     "output_type": "execute_result"
    }
   ],
   "source": [
    "usol, xpts, tpts = solveConvection(u0, vlin2, 0.2, -0.5, 0.5, 100, 100);\n",
    "\n",
    "plot(xlabel = \"x\", ylabel=\"u\")\n",
    "for j=1:20:101\n",
    "    plot!(xpts, usol[:, j],lab = \"t = $(tpts[j])\")\n",
    "end\n",
    "plot!()"
   ]
  },
  {
   "cell_type": "markdown",
   "metadata": {},
   "source": [
    "Solution develops a discontinuity just behind the fast moving piece of liquid. Essentially, the liquid creates a \"vacuum\" as some particles run away from there while others (with smaller $x$) didn't quite get there yet. This results in discontinuous dip in the temperature. This a plausible physical effect. Our model, however, cannot capture it as $u(t,x)$ is required to be continuously differentiable. The resolution of this problem is to generalize the derivative such that it would allow discontinuities."
   ]
  },
  {
   "cell_type": "markdown",
   "metadata": {},
   "source": [
    "## Generalized solution of the convection equation\n",
    "\n",
    "Since equation\n",
    "$$\n",
    "u_t + (v(x)u)_x=0\n",
    "$$\n",
    "must be always valid, multiplying it by some \"nice\" function $\\phi(t, x)$ that is non-zero only inside some $G$ that is a subset of the solution domain $\\Pi = \\{-\\infty<x<\\infty, 0\\leq t \\leq T\\}$ and integrating over the domain $\\Pi$ won't change the validity of the equation:\n",
    "$$\n",
    "\\int_\\Omega (u_t\\phi +(v(x)u)_x\\phi)\\,dtdx=0\n",
    "$$\n",
    "Since $\\phi=0$ outside of $G$, the above equation simplifies to\n",
    "$$\n",
    "\\int_G (u_t\\phi +(v(x)u)_x\\phi)\\,dtdx=0\n",
    "$$\n",
    "The next step is to use integration by parts (or more generally, to use divergence theorem). We will require $\\phi|_{\\partial G}=0$. Thus, the integral over the surface of $G$ disappears and the result of integration by parts is\n",
    "$$\n",
    "\\int_G(u\\phi_t+v(x)u\\phi_x)\\,dtdx=0\n",
    "$$\n",
    "Notice, that $u(t,x)$ in this equation does not have to be differentiable or even continuous. If $\\phi\\in C^\\infty(\\Pi)$, all it is required that $u(t,x)\\in L_2(G)$ and $v(x)\\in L_2(G_x)$, where $G_x$ is $x$ the projection of $G$ onto $x$.\n",
    "\n",
    "Now the field $v(x)$ can be discontinuous. Initial condition $u_0(x)$ can be discontinuous as well. Thus, we can start looking at problems of discontinuity propogation. But before diving into this, let's revise what happens with the continuous problem that reaches discontinuity.\n",
    "\n",
    "There is one problem with all the previous examples of discontinuity formation: temperature $u(t,x)$ builds up as energy density increases without bounds. Unfortunately, this results in $u(t,x)\\not\\in L_2(G)$. This was the result of requiring the velocity field depend on $x$ and, thus, requiring infinite supply of energy to accelerate the liquid in some parts. Let's assume a slightly different scenario. Let $v$ be a natural convection (assuming $x$ directed upwards). For simplicity, let's assume $v\\propto u$. Choosing spatial and time units and units of $u$, the relation can be transformed into $v=(1/2)u$. Thus, the equation becomes\n",
    "$$\n",
    "u_t+\\left(\\frac{1}{2}u^2\\right)_x=0.\n",
    "$$\n",
    "This is Hopf's equation. In contrast to previous examples, Hopf's equation is pseudo-linear: velocity field $v$ now also depenends on $u$, but not on $u_x$. Let's write characteristic equations:\n",
    "$$\n",
    "\\dot x = u,\\quad x(0)=\\xi\n",
    "$$\n",
    "$$\n",
    "\\dot u = 0,\\quad u(0,x)=u_0(x)\n",
    "$$\n",
    "The second equation in Lagrangian view can be solved immediately\n",
    "$$\n",
    "u^*(t,\\xi) = u_0(\\xi)\n",
    "$$\n",
    "I.e. there is no increase in temperature along particle trajectories. With this information, the first equation is also trivially solved:\n",
    "$$\n",
    "x^*(t,\\xi) = \\xi + u_0(\\xi)t\n",
    "$$\n",
    "To get Eulerian solution $u(t,x)$, the trajectories need to be inversed to get $\\xi$. once again we are running into the problem if they are not invertable. For example, if there is hotter liquid behind cold one as the hot part will try to move faster."
   ]
  },
  {
   "cell_type": "markdown",
   "metadata": {},
   "source": [
    "Let's solve equation\n",
    "$$\n",
    "u_t+v(x)u_x+v'(x)u=0\n",
    "$$\n",
    "with\n",
    "$$\n",
    "v(x)=e^x\n",
    "$$\n",
    "and initial condition\n",
    "$$\n",
    "x(0) = \\xi\n",
    "$$\n",
    "$$\n",
    "u(0, x) = u_0(\\xi) =\n",
    "\\begin{cases}\n",
    "1, \\xi<\\delta;\\\\\n",
    "\\frac{1}{2}\\left(1-\\sin\\left(\\frac{\\pi \\xi}{2\\delta}\\right)\\right), -\\delta\\leq x < \\delta;\\\\\n",
    "0, x\\geq \\delta.\n",
    "\\end{cases}\n",
    "$$\n",
    "Lagrangian view of the solution is\n",
    "$$\n",
    "x^*(t,\\xi) = -\\log\\left(e^{-\\xi}-t\\right)\n",
    "$$\n",
    "$$\n",
    "u^*(t,\\xi) = u_0(\\xi)\\left(1-e^\\xi t\\right)\n",
    "$$\n",
    "In Eulerian coordinates this becomes\n",
    "$$\n",
    "\\xi = \\log\\frac{1}{e^{-x}+t}\n",
    "$$\n",
    "$$\n",
    "u(t,x) = u_0\\left(\\log\\frac{1}{e^{-x}+t}\\right)\\left(1-\\frac{t}{e^{-x}+t}\\right).\n",
    "$$"
   ]
  },
  {
   "cell_type": "code",
   "execution_count": 26,
   "metadata": {},
   "outputs": [
    {
     "data": {
      "text/plain": [
       "u (generic function with 1 method)"
      ]
     },
     "execution_count": 26,
     "metadata": {},
     "output_type": "execute_result"
    }
   ],
   "source": [
    "δ = 0.1\n",
    "\n",
    "function u0(ξ)\n",
    "    if ξ ≤ -δ\n",
    "        1.0\n",
    "    elseif ξ ≥ δ\n",
    "        0.0\n",
    "    else\n",
    "        0.5*(1.0 - sin(π*ξ / (2δ)))\n",
    "    end\n",
    "end\n",
    "\n",
    "function u(t, x)\n",
    "    tmp = exp(-x)+t\n",
    "    ξ = -log(tmp)\n",
    "    return u0(ξ) * (1 - t / (tmp))\n",
    "end"
   ]
  },
  {
   "cell_type": "code",
   "execution_count": 27,
   "metadata": {},
   "outputs": [
    {
     "data": {
      "text/plain": [
       "0.8189732888951378"
      ]
     },
     "execution_count": 27,
     "metadata": {},
     "output_type": "execute_result"
    }
   ],
   "source": [
    "(θ -> u(θ, 0.1))(0.2)"
   ]
  },
  {
   "cell_type": "code",
   "execution_count": 45,
   "metadata": {},
   "outputs": [
    {
     "data": {
      "image/png": "[encoded data removed]"
     },
     "execution_count": 45,
     "metadata": {},
     "output_type": "execute_result"
    }
   ],
   "source": [
    "plot(xlabel = \"x\", ylabel=\"u\")\n",
    "for θ in [0.0, 0.25, 0.5, 0.75, 1.0]\n",
    "    plot!(ξ->u(θ,ξ), -1.0, 2.0, lab = \"t = $θ\")\n",
    "end\n",
    "plot!()\n",
    "# plot([ξ -> u(θ, ξ) for θ in [0.0, 0.25, 0.5, 0.75, 1.0]], -1.0, 2.0, lab=[\"1\"; \"2\"; \"3\"; \"4\"; \"5\"])"
   ]
  },
  {
   "cell_type": "code",
   "execution_count": 46,
   "metadata": {},
   "outputs": [
    {
     "data": {
      "text/plain": [
       "u1 (generic function with 1 method)"
      ]
     },
     "execution_count": 46,
     "metadata": {},
     "output_type": "execute_result"
    }
   ],
   "source": [
    "function u1(t, x)\n",
    "    tmp = exp(x)-t\n",
    "    ξ = log(tmp)\n",
    "    return u0(ξ) * (1 + t / (tmp))\n",
    "end"
   ]
  },
  {
   "cell_type": "code",
   "execution_count": 63,
   "metadata": {},
   "outputs": [
    {
     "data": {
      "text/plain": [
       "5.843790406178303"
      ]
     },
     "execution_count": 63,
     "metadata": {},
     "output_type": "execute_result"
    }
   ],
   "source": [
    "u1(0.75, -0.1)"
   ]
  },
  {
   "cell_type": "code",
   "execution_count": 64,
   "metadata": {},
   "outputs": [
    {
     "data": {
      "image/png": "[encoded data removed]"
     },
     "execution_count": 64,
     "metadata": {},
     "output_type": "execute_result"
    }
   ],
   "source": [
    "plot(xlabel = \"x\", ylabel=\"u\")\n",
    "for θ in [0.0, 0.1, 0.2, 0.3, 0.5, 0.75]\n",
    "    plot!(ξ->u1(θ,ξ), -0.1, 1.0, lab = \"t = $θ\")\n",
    "end\n",
    "plot!()"
   ]
  },
  {
   "cell_type": "code",
   "execution_count": 66,
   "metadata": {},
   "outputs": [
    {
     "data": {
      "image/png": "[encoded data removed]"
     },
     "execution_count": 66,
     "metadata": {},
     "output_type": "execute_result"
    }
   ],
   "source": [
    "let f(u,p,t) = 1.01*u,\n",
    "    u0=1/2,\n",
    "    tspan = (0.0,1.0),\n",
    "    prob = ODEProblem(f,u0,tspan),\n",
    "    sol = DifferentialEquations.solve(prob,Tsit5(),reltol=1e-8,abstol=1e-8)\n",
    "    \n",
    "    plot(sol,linewidth=5,title=\"Solution to the linear ODE with a thick line\",\n",
    "     xaxis=\"Time (t)\",yaxis=\"u(t) (in μm)\",label=\"My Thick Line!\")\n",
    "end"
   ]
  },
  {
   "cell_type": "markdown",
   "metadata": {},
   "source": [
    "### BISECTION\n",
    "**Input:** $f:\\mathbb{R}\\to\\mathbb{R}$, $a\\in\\mathbb{R}$, $b\\in\\mathbb{R}$, $\\varepsilon\\in\\mathbb{R}_{+}$  \n",
    "**Output:** $x\\colon \\exists \\xi\\in(x-\\varepsilon,x+\\varepsilon), f(\\xi)=0$  \n",
    "$f_a \\gets f(a)$  \n",
    "$f_b \\gets f(b)$  \n",
    "$\\epsilon \\gets 2\\varepsilon$  \n",
    "**while** $\\vert a - b \\vert \\geq \\epsilon$ **do**  \n",
    "$\\hphantom{mm}c\\gets (a+b)/2$  \n",
    "$\\hphantom{mm} f_c\\gets f(c)$  \n",
    "$\\hphantom{mm}$**if** $f_af_c\\leq0$ **then**  \n",
    "$\\hphantom{mmmm} b\\gets c, f_b \\gets f_c$  \n",
    "$\\hphantom{mm}$**end if**  \n",
    "$\\hphantom{mm}$**if** $f_cf_b\\leq0$ **then**  \n",
    "$\\hphantom{mmmm} a\\gets c, f_a \\gets f_c$  \n",
    "$\\hphantom{mm}$**end if**  \n",
    "**end while**  \n",
    "**return** $(a+b)/2$"
   ]
  },
  {
   "cell_type": "code",
   "execution_count": null,
   "metadata": {},
   "outputs": [],
   "source": [
    "function bisection(f, a, b, eps)\n",
    "    fa = f(a)\n",
    "    fb = f(b)\n",
    "    u = 2*eps\n",
    "    n = 0\n",
    "    while abs(a-b) >= u\n",
    "        n += 1\n",
    "        @printf \"Step %3d:\\t[%g, %g]\\n\" n a b\n",
    "        c = (a+b) / 2\n",
    "        fc = f(c)\n",
    "        if fa*fc <= 0\n",
    "            b, fb = c, fc\n",
    "        end\n",
    "        if fc*fb <= 0\n",
    "            a, fa = c, fc\n",
    "        end\n",
    "    end\n",
    "    return (a+b) / 2\n",
    "end"
   ]
  },
  {
   "cell_type": "code",
   "execution_count": null,
   "metadata": {},
   "outputs": [],
   "source": [
    "bisection(x -> x*x - 2.0, 1.0, 2.0, 1e-9)"
   ]
  },
  {
   "cell_type": "code",
   "execution_count": null,
   "metadata": {},
   "outputs": [],
   "source": [
    "using Interact"
   ]
  },
  {
   "cell_type": "code",
   "execution_count": null,
   "metadata": {},
   "outputs": [],
   "source": [
    "using Plots\n",
    "theme(:dark)\n",
    "pyplot(frame=true)"
   ]
  },
  {
   "cell_type": "code",
   "execution_count": null,
   "metadata": {},
   "outputs": [],
   "source": [
    "@manipulate for x=1:10\n",
    "        x^2\n",
    "    end"
   ]
  },
  {
   "cell_type": "code",
   "execution_count": null,
   "metadata": {},
   "outputs": [],
   "source": [
    "@manipulate for ω=0.1:0.1:4.0, φ=0.0:0.1:π, which=false\n",
    "    if which\n",
    "        plot(x-> sin(ω*x+φ), 0.0, 2π)\n",
    "    else\n",
    "        plot(x-> exp(-ω*x+φ), 0.0, 2π)\n",
    "    end\n",
    "end"
   ]
  },
  {
   "cell_type": "code",
   "execution_count": 7,
   "metadata": {},
   "outputs": [
    {
     "data": {
      "text/markdown": [
       "$$u_0=[1,2,3]$$"
      ]
     },
     "metadata": {},
     "output_type": "display_data"
    }
   ],
   "source": [
    "display(\"text/markdown\", \"\\$\\$u_0=[1,2,3]\\$\\$\")"
   ]
  },
  {
   "cell_type": "markdown",
   "metadata": {},
   "source": [
    "Oops. This is too big.\n",
    "$$\n",
    "u_0=[1,2,3]\n",
    "$$"
   ]
  }
 ],
 "metadata": {
  "kernelspec": {
   "display_name": "Julia 0.6.2",
   "language": "julia",
   "name": "julia-0.6"
  },
  "language_info": {
   "file_extension": ".jl",
   "mimetype": "application/julia",
   "name": "julia",
   "version": "0.6.2"
  }
 },
 "nbformat": 4,
 "nbformat_minor": 2
}
